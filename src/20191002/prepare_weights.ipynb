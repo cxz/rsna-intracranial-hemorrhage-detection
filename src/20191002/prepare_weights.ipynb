{
 "cells": [
  {
   "cell_type": "code",
   "execution_count": 1,
   "metadata": {},
   "outputs": [],
   "source": [
    "import pandas as pd\n",
    "\n",
    "df = pd.read_csv('../data/stage_1_train_folds.csv')"
   ]
  },
  {
   "cell_type": "code",
   "execution_count": 2,
   "metadata": {},
   "outputs": [
    {
     "data": {
      "text/html": [
       "<div>\n",
       "<style scoped>\n",
       "    .dataframe tbody tr th:only-of-type {\n",
       "        vertical-align: middle;\n",
       "    }\n",
       "\n",
       "    .dataframe tbody tr th {\n",
       "        vertical-align: top;\n",
       "    }\n",
       "\n",
       "    .dataframe thead th {\n",
       "        text-align: right;\n",
       "    }\n",
       "</style>\n",
       "<table border=\"1\" class=\"dataframe\">\n",
       "  <thead>\n",
       "    <tr style=\"text-align: right;\">\n",
       "      <th></th>\n",
       "      <th>image</th>\n",
       "      <th>fold</th>\n",
       "      <th>any</th>\n",
       "      <th>epidural</th>\n",
       "      <th>intraparenchymal</th>\n",
       "      <th>intraventricular</th>\n",
       "      <th>subarachnoid</th>\n",
       "      <th>subdural</th>\n",
       "    </tr>\n",
       "  </thead>\n",
       "  <tbody>\n",
       "    <tr>\n",
       "      <td>0</td>\n",
       "      <td>ID_000039fa0</td>\n",
       "      <td>1</td>\n",
       "      <td>0</td>\n",
       "      <td>0</td>\n",
       "      <td>0</td>\n",
       "      <td>0</td>\n",
       "      <td>0</td>\n",
       "      <td>0</td>\n",
       "    </tr>\n",
       "    <tr>\n",
       "      <td>1</td>\n",
       "      <td>ID_00005679d</td>\n",
       "      <td>1</td>\n",
       "      <td>0</td>\n",
       "      <td>0</td>\n",
       "      <td>0</td>\n",
       "      <td>0</td>\n",
       "      <td>0</td>\n",
       "      <td>0</td>\n",
       "    </tr>\n",
       "    <tr>\n",
       "      <td>2</td>\n",
       "      <td>ID_00008ce3c</td>\n",
       "      <td>1</td>\n",
       "      <td>0</td>\n",
       "      <td>0</td>\n",
       "      <td>0</td>\n",
       "      <td>0</td>\n",
       "      <td>0</td>\n",
       "      <td>0</td>\n",
       "    </tr>\n",
       "    <tr>\n",
       "      <td>3</td>\n",
       "      <td>ID_0000950d7</td>\n",
       "      <td>1</td>\n",
       "      <td>0</td>\n",
       "      <td>0</td>\n",
       "      <td>0</td>\n",
       "      <td>0</td>\n",
       "      <td>0</td>\n",
       "      <td>0</td>\n",
       "    </tr>\n",
       "    <tr>\n",
       "      <td>4</td>\n",
       "      <td>ID_0000aee4b</td>\n",
       "      <td>4</td>\n",
       "      <td>0</td>\n",
       "      <td>0</td>\n",
       "      <td>0</td>\n",
       "      <td>0</td>\n",
       "      <td>0</td>\n",
       "      <td>0</td>\n",
       "    </tr>\n",
       "  </tbody>\n",
       "</table>\n",
       "</div>"
      ],
      "text/plain": [
       "          image  fold  any  epidural  intraparenchymal  intraventricular  \\\n",
       "0  ID_000039fa0     1    0         0                 0                 0   \n",
       "1  ID_00005679d     1    0         0                 0                 0   \n",
       "2  ID_00008ce3c     1    0         0                 0                 0   \n",
       "3  ID_0000950d7     1    0         0                 0                 0   \n",
       "4  ID_0000aee4b     4    0         0                 0                 0   \n",
       "\n",
       "   subarachnoid  subdural  \n",
       "0             0         0  \n",
       "1             0         0  \n",
       "2             0         0  \n",
       "3             0         0  \n",
       "4             0         0  "
      ]
     },
     "execution_count": 2,
     "metadata": {},
     "output_type": "execute_result"
    }
   ],
   "source": [
    "df.head()"
   ]
  },
  {
   "cell_type": "code",
   "execution_count": 5,
   "metadata": {},
   "outputs": [],
   "source": [
    "from collections import Counter\n",
    "\n",
    "labels = Counter()\n",
    "\n",
    "for y in df.values[:, 3:]:\n",
    "    labels[tuple(y)] += 1"
   ]
  },
  {
   "cell_type": "code",
   "execution_count": 7,
   "metadata": {},
   "outputs": [
    {
     "data": {
      "text/plain": [
       "[((0, 0, 0, 0, 0), 577154),\n",
       " ((0, 0, 0, 0, 1), 28909),\n",
       " ((0, 0, 0, 1, 0), 14717),\n",
       " ((0, 1, 0, 0, 0), 13932),\n",
       " ((0, 0, 1, 0, 0), 8914),\n",
       " ((0, 1, 1, 0, 0), 6330),\n",
       " ((0, 0, 0, 1, 1), 4654),\n",
       " ((0, 1, 0, 1, 0), 3611),\n",
       " ((0, 0, 1, 1, 0), 3226),\n",
       " ((0, 1, 0, 0, 1), 2952),\n",
       " ((0, 1, 0, 1, 1), 2017),\n",
       " ((0, 1, 1, 1, 0), 1761),\n",
       " ((1, 0, 0, 0, 0), 1497),\n",
       " ((0, 0, 1, 0, 1), 1021),\n",
       " ((0, 0, 1, 1, 1), 893),\n",
       " ((0, 1, 1, 1, 1), 759),\n",
       " ((0, 1, 1, 0, 1), 646),\n",
       " ((1, 0, 0, 0, 1), 341),\n",
       " ((1, 1, 0, 0, 0), 233),\n",
       " ((1, 0, 0, 1, 0), 180),\n",
       " ((1, 0, 0, 1, 1), 91),\n",
       " ((1, 1, 0, 0, 1), 86),\n",
       " ((1, 1, 0, 1, 0), 75),\n",
       " ((1, 1, 1, 0, 0), 45),\n",
       " ((1, 1, 0, 1, 1), 42),\n",
       " ((1, 0, 1, 0, 0), 39),\n",
       " ((1, 1, 1, 1, 0), 36),\n",
       " ((1, 0, 1, 1, 1), 29),\n",
       " ((1, 1, 1, 1, 1), 20),\n",
       " ((1, 1, 1, 0, 1), 19),\n",
       " ((1, 0, 1, 0, 1), 17),\n",
       " ((1, 0, 1, 1, 0), 11)]"
      ]
     },
     "execution_count": 7,
     "metadata": {},
     "output_type": "execute_result"
    }
   ],
   "source": [
    "labels.most_common()"
   ]
  },
  {
   "cell_type": "code",
   "execution_count": 19,
   "metadata": {},
   "outputs": [],
   "source": [
    "import numpy as np\n",
    "import math\n",
    "\n",
    "def get_sample_weights(labels, weight_per_class):\n",
    "    sample_weights = [np.max(np.array(weight_per_class)[np.nonzero(lab)[0]]) for lab in labels]\n",
    "    return sample_weights\n",
    "\n",
    "\n",
    "def create_class_weight(labels_dict, mu=0.5):\n",
    "    \"\"\" dampened weights. \"\"\"\n",
    "    total = np.sum(list(labels_dict.values()))\n",
    "    keys = labels_dict.keys()\n",
    "    class_weight = dict()\n",
    "    class_weight_log = dict()\n",
    "\n",
    "    for key in keys:\n",
    "        score = total / float(labels_dict[key])\n",
    "        score_log = math.log(mu * total / float(labels_dict[key]))\n",
    "        class_weight[key] = round(score, 2) if score > 1.0 else round(1.0, 2)\n",
    "        class_weight_log[key] = round(score_log, 2) if score_log > 1.0 else round(1.0, 2)\n",
    "\n",
    "    return class_weight, class_weight_log\n",
    "\n",
    "weights, damped_weights = create_class_weight(dict(labels))"
   ]
  },
  {
   "cell_type": "code",
   "execution_count": 24,
   "metadata": {},
   "outputs": [
    {
     "data": {
      "text/plain": [
       "{(0, 0, 0, 0, 0): 1.0,\n",
       " (0, 1, 0, 0, 0): 3.19,\n",
       " (0, 0, 0, 1, 1): 4.28,\n",
       " (0, 0, 0, 0, 1): 2.46,\n",
       " (0, 0, 1, 0, 0): 3.63,\n",
       " (0, 0, 0, 1, 0): 3.13,\n",
       " (0, 0, 1, 1, 0): 4.65,\n",
       " (0, 1, 0, 1, 0): 4.54,\n",
       " (0, 1, 0, 0, 1): 4.74,\n",
       " (0, 0, 1, 0, 1): 5.8,\n",
       " (0, 1, 1, 0, 0): 3.98,\n",
       " (0, 1, 1, 0, 1): 6.26,\n",
       " (1, 0, 0, 0, 0): 5.42,\n",
       " (0, 1, 1, 1, 0): 5.25,\n",
       " (0, 1, 0, 1, 1): 5.12,\n",
       " (0, 1, 1, 1, 1): 6.1,\n",
       " (1, 0, 0, 0, 1): 6.9,\n",
       " (0, 0, 1, 1, 1): 5.93,\n",
       " (1, 1, 0, 0, 0): 7.28,\n",
       " (1, 0, 1, 0, 0): 9.06,\n",
       " (1, 1, 0, 1, 1): 8.99,\n",
       " (1, 1, 1, 0, 1): 9.78,\n",
       " (1, 1, 0, 0, 1): 8.27,\n",
       " (1, 1, 1, 0, 0): 8.92,\n",
       " (1, 0, 0, 1, 0): 7.54,\n",
       " (1, 1, 1, 1, 0): 9.14,\n",
       " (1, 1, 0, 1, 0): 8.41,\n",
       " (1, 0, 0, 1, 1): 8.22,\n",
       " (1, 1, 1, 1, 1): 9.73,\n",
       " (1, 0, 1, 1, 0): 10.33,\n",
       " (1, 0, 1, 0, 1): 9.9,\n",
       " (1, 0, 1, 1, 1): 9.36}"
      ]
     },
     "execution_count": 24,
     "metadata": {},
     "output_type": "execute_result"
    }
   ],
   "source": [
    "damped_weights"
   ]
  },
  {
   "cell_type": "code",
   "execution_count": 21,
   "metadata": {},
   "outputs": [],
   "source": [
    "sample_weights = [damped_weights[tuple(label)] for label in df.values[:, 3:]]"
   ]
  },
  {
   "cell_type": "code",
   "execution_count": 26,
   "metadata": {},
   "outputs": [],
   "source": [
    "df['weight'] = sample_weights"
   ]
  },
  {
   "cell_type": "code",
   "execution_count": 28,
   "metadata": {},
   "outputs": [],
   "source": [
    "df.to_csv('../data/stage_1_train_folds_weighted.csv', index=False)"
   ]
  },
  {
   "cell_type": "code",
   "execution_count": null,
   "metadata": {},
   "outputs": [],
   "source": []
  }
 ],
 "metadata": {
  "kernelspec": {
   "display_name": "Python 3",
   "language": "python",
   "name": "python3"
  },
  "language_info": {
   "codemirror_mode": {
    "name": "ipython",
    "version": 3
   },
   "file_extension": ".py",
   "mimetype": "text/x-python",
   "name": "python",
   "nbconvert_exporter": "python",
   "pygments_lexer": "ipython3",
   "version": "3.7.4"
  }
 },
 "nbformat": 4,
 "nbformat_minor": 4
}
