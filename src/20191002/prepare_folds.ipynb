{
 "cells": [
  {
   "cell_type": "code",
   "execution_count": 2,
   "metadata": {},
   "outputs": [],
   "source": [
    "#!pip install iterative-stratification"
   ]
  },
  {
   "cell_type": "code",
   "execution_count": 1,
   "metadata": {},
   "outputs": [],
   "source": [
    "import pandas as pd\n",
    "import numpy as np\n",
    "\n",
    "import util"
   ]
  },
  {
   "cell_type": "code",
   "execution_count": 2,
   "metadata": {},
   "outputs": [],
   "source": [
    "train_df = util.read_trainset()"
   ]
  },
  {
   "cell_type": "code",
   "execution_count": 3,
   "metadata": {},
   "outputs": [],
   "source": [
    "X = train_df.index.values\n",
    "y = train_df['Label'].values[:, 1:] # remove `any` column"
   ]
  },
  {
   "cell_type": "code",
   "execution_count": null,
   "metadata": {},
   "outputs": [],
   "source": []
  },
  {
   "cell_type": "code",
   "execution_count": 4,
   "metadata": {},
   "outputs": [],
   "source": [
    "from iterstrat.ml_stratifiers import MultilabelStratifiedKFold\n",
    "import numpy as np\n",
    "\n",
    "#X = np.array([[1,2], [3,4], [1,2], [3,4], [1,2], [3,4], [1,2], [3,4]])\n",
    "#y = np.array([[0,0], [0,0], [0,1], [0,1], [1,1], [1,1], [1,0], [1,0]])\n",
    "\n",
    "kf = MultilabelStratifiedKFold(n_splits=5, random_state=0)\n",
    "\n",
    "folds = np.zeros(shape=(len(y),), dtype=np.uint8)\n",
    "\n",
    "for fold_no, (train_index, test_index) in enumerate(kf.split(X, y)):\n",
    "    #print(f'fold: {fold_no} TRAIN: {train_index} TEST: {test_index}')\n",
    "    #X_train, X_test = X[train_index], X[test_index]\n",
    "    #y_train, y_test = y[train_index], y[test_index]\n",
    "    folds[test_index] = fold_no\n",
    "    "
   ]
  },
  {
   "cell_type": "code",
   "execution_count": 5,
   "metadata": {},
   "outputs": [
    {
     "name": "stdout",
     "output_type": "stream",
     "text": [
      "674257\n",
      "0.20000088986840328\n",
      "0.1999994067543978\n",
      "0.1999994067543978\n",
      "0.20000088986840328\n",
      "0.1999994067543978\n"
     ]
    }
   ],
   "source": [
    "print(len(folds))\n",
    "for fold_no in range(5):\n",
    "    print(np.sum(folds==fold_no)/len(folds))"
   ]
  },
  {
   "cell_type": "code",
   "execution_count": 6,
   "metadata": {},
   "outputs": [
    {
     "name": "stdout",
     "output_type": "stream",
     "text": [
      "32\n"
     ]
    }
   ],
   "source": [
    "from collections import Counter\n",
    "label_sets = Counter()\n",
    "for label in y:\n",
    "    x = tuple(label)\n",
    "    label_sets[x] += 1\n",
    "print(len(label_sets))    "
   ]
  },
  {
   "cell_type": "code",
   "execution_count": 7,
   "metadata": {},
   "outputs": [
    {
     "data": {
      "text/plain": [
       "[((0, 0, 0, 0, 0), 577154),\n",
       " ((0, 0, 0, 0, 1), 28909),\n",
       " ((0, 0, 0, 1, 0), 14717),\n",
       " ((0, 1, 0, 0, 0), 13932),\n",
       " ((0, 0, 1, 0, 0), 8914),\n",
       " ((0, 1, 1, 0, 0), 6330),\n",
       " ((0, 0, 0, 1, 1), 4654),\n",
       " ((0, 1, 0, 1, 0), 3611),\n",
       " ((0, 0, 1, 1, 0), 3226),\n",
       " ((0, 1, 0, 0, 1), 2952)]"
      ]
     },
     "execution_count": 7,
     "metadata": {},
     "output_type": "execute_result"
    }
   ],
   "source": [
    "label_sets.most_common(10)"
   ]
  },
  {
   "cell_type": "code",
   "execution_count": 9,
   "metadata": {},
   "outputs": [
    {
     "name": "stdout",
     "output_type": "stream",
     "text": [
      "fold 0 label (0, 0, 0, 0, 0) amount: 115357\n",
      "fold 0 label (0, 0, 0, 0, 1) amount: 5832\n",
      "fold 0 label (0, 0, 0, 1, 0) amount: 2990\n",
      "fold 0 label (0, 1, 0, 0, 0) amount: 2822\n",
      "fold 0 label (0, 0, 1, 0, 0) amount: 1817\n",
      "fold 0 label (0, 1, 1, 0, 0) amount: 1232\n",
      "fold 0 label (0, 0, 0, 1, 1) amount: 906\n",
      "fold 0 label (0, 1, 0, 1, 0) amount: 698\n",
      "fold 0 label (0, 0, 1, 1, 0) amount: 641\n",
      "fold 0 label (0, 1, 0, 0, 1) amount: 588\n",
      "fold 1 label (0, 0, 0, 0, 0) amount: 115495\n",
      "fold 1 label (0, 0, 0, 0, 1) amount: 5758\n",
      "fold 1 label (0, 0, 0, 1, 0) amount: 2901\n",
      "fold 1 label (0, 1, 0, 0, 0) amount: 2753\n",
      "fold 1 label (0, 0, 1, 0, 0) amount: 1767\n",
      "fold 1 label (0, 1, 1, 0, 0) amount: 1268\n",
      "fold 1 label (0, 0, 0, 1, 1) amount: 937\n",
      "fold 1 label (0, 1, 0, 1, 0) amount: 739\n",
      "fold 1 label (0, 0, 1, 1, 0) amount: 638\n",
      "fold 1 label (0, 1, 0, 0, 1) amount: 588\n",
      "fold 2 label (0, 0, 0, 0, 0) amount: 115434\n",
      "fold 2 label (0, 0, 0, 0, 1) amount: 5722\n",
      "fold 2 label (0, 0, 0, 1, 0) amount: 2901\n",
      "fold 2 label (0, 1, 0, 0, 0) amount: 2817\n",
      "fold 2 label (0, 0, 1, 0, 0) amount: 1811\n",
      "fold 2 label (0, 1, 1, 0, 0) amount: 1238\n",
      "fold 2 label (0, 0, 0, 1, 1) amount: 988\n",
      "fold 2 label (0, 1, 0, 1, 0) amount: 741\n",
      "fold 2 label (0, 0, 1, 1, 0) amount: 660\n",
      "fold 2 label (0, 1, 0, 0, 1) amount: 609\n",
      "fold 3 label (0, 0, 0, 0, 0) amount: 115377\n",
      "fold 3 label (0, 0, 0, 0, 1) amount: 5790\n",
      "fold 3 label (0, 0, 0, 1, 0) amount: 2996\n",
      "fold 3 label (0, 1, 0, 0, 0) amount: 2793\n",
      "fold 3 label (0, 0, 1, 0, 0) amount: 1807\n",
      "fold 3 label (0, 1, 1, 0, 0) amount: 1267\n",
      "fold 3 label (0, 0, 0, 1, 1) amount: 914\n",
      "fold 3 label (0, 1, 0, 1, 0) amount: 706\n",
      "fold 3 label (0, 0, 1, 1, 0) amount: 639\n",
      "fold 3 label (0, 1, 0, 0, 1) amount: 612\n",
      "fold 4 label (0, 0, 0, 0, 0) amount: 115491\n",
      "fold 4 label (0, 0, 0, 0, 1) amount: 5807\n",
      "fold 4 label (0, 0, 0, 1, 0) amount: 2929\n",
      "fold 4 label (0, 1, 0, 0, 0) amount: 2747\n",
      "fold 4 label (0, 0, 1, 0, 0) amount: 1712\n",
      "fold 4 label (0, 1, 1, 0, 0) amount: 1325\n",
      "fold 4 label (0, 0, 0, 1, 1) amount: 909\n",
      "fold 4 label (0, 1, 0, 1, 0) amount: 727\n",
      "fold 4 label (0, 0, 1, 1, 0) amount: 648\n",
      "fold 4 label (0, 1, 0, 0, 1) amount: 555\n"
     ]
    }
   ],
   "source": [
    "# counts of most common label sets accross folds\n",
    "for fold_no in range(5):\n",
    "    y_fold = y[folds==fold_no]\n",
    "    for label_set, _ in label_sets.most_common(10):        \n",
    "        amount = np.sum([1 for x in y_fold if tuple(x) == label_set])\n",
    "        print(f'fold {fold_no} label {label_set} amount: {amount}')"
   ]
  },
  {
   "cell_type": "code",
   "execution_count": 11,
   "metadata": {},
   "outputs": [],
   "source": [
    "folds_df = pd.DataFrame()\n",
    "folds_df['image'] = X\n",
    "folds_df['fold'] = folds\n",
    "for c in train_df['Label'].columns:\n",
    "    folds_df[c] = train_df['Label'][c].values\n",
    "folds_df.to_csv('../data/stage_1_train_folds.csv', index=False)\n"
   ]
  },
  {
   "cell_type": "code",
   "execution_count": 12,
   "metadata": {},
   "outputs": [
    {
     "name": "stdout",
     "output_type": "stream",
     "text": [
      "image,fold,any,epidural,intraparenchymal,intraventricular,subarachnoid,subdural\n",
      "ID_000039fa0,1,0,0,0,0,0,0\n",
      "ID_00005679d,1,0,0,0,0,0,0\n",
      "ID_00008ce3c,1,0,0,0,0,0,0\n",
      "ID_0000950d7,1,0,0,0,0,0,0\n",
      "ID_0000aee4b,4,0,0,0,0,0,0\n",
      "ID_0000f1657,1,0,0,0,0,0,0\n",
      "ID_000178e76,4,0,0,0,0,0,0\n",
      "ID_00019828f,1,0,0,0,0,0,0\n",
      "ID_0001dcc25,4,0,0,0,0,0,0\n"
     ]
    }
   ],
   "source": [
    "!head ../data/stage_1_train_folds.csv"
   ]
  },
  {
   "cell_type": "code",
   "execution_count": null,
   "metadata": {},
   "outputs": [],
   "source": []
  }
 ],
 "metadata": {
  "kernelspec": {
   "display_name": "Python 3",
   "language": "python",
   "name": "python3"
  },
  "language_info": {
   "codemirror_mode": {
    "name": "ipython",
    "version": 3
   },
   "file_extension": ".py",
   "mimetype": "text/x-python",
   "name": "python",
   "nbconvert_exporter": "python",
   "pygments_lexer": "ipython3",
   "version": "3.7.4"
  }
 },
 "nbformat": 4,
 "nbformat_minor": 4
}
